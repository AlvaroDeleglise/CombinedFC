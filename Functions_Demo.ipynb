{
 "cells": [
  {
   "cell_type": "code",
   "execution_count": 1,
   "metadata": {},
   "outputs": [],
   "source": [
    "from scipy import stats\n",
    "import numpy as np\n",
    "import CombinedFCToolBox as cfc  #import the combinedFC toolbox\n",
    "import matplotlib.pyplot as plt"
   ]
  },
  {
   "cell_type": "markdown",
   "metadata": {},
   "source": [
    "# Demo for some CombinedFC Toolbox functions"
   ]
  },
  {
   "cell_type": "markdown",
   "metadata": {},
   "source": [
    "### For more information and details about the functions and methods implemented here refer to: Sanchez-Romero, R., Cole, M.W. (Preprint) \"Combining multiple functional connectivity methods to improve causal inferences\" bioRxiv. https://doi.org/10.1101/841890"
   ]
  },
  {
   "cell_type": "markdown",
   "metadata": {},
   "source": [
    "### Simulate a directed network model: adjusted Erdos-Renyi or adjusted Static Power Law"
   ]
  },
  {
   "cell_type": "code",
   "execution_count": 2,
   "metadata": {},
   "outputs": [
    {
     "name": "stdout",
     "output_type": "stream",
     "text": [
      "directed network with 200 nodes and 920 edges\n"
     ]
    },
    {
     "data": {
      "image/png": "[encoded data removed]",
      "text/plain": [
       "<Figure size 432x288 with 1 Axes>"
      ]
     },
     "metadata": {
      "needs_background": "light"
     },
     "output_type": "display_data"
    }
   ],
   "source": [
    "#the graphModel function requires installation: \"conda install -c conda-forge python-igraph\"\n",
    "#or \"pip install python-igraph\"\n",
    "#https://igraph.org/python/\n",
    "\n",
    "model = 'ErdosRenyi'  #or StaticPowerLaw\n",
    "edgedensity = 900 #aprox. number of edges\n",
    "nNodes = 200 #number of nodes\n",
    "\n",
    "#returns a binary directed network encoded as column(source) -> row(target)\n",
    "#for example, the entry Cij, implies that j -> i (j is a directed cause of i)\n",
    "C = cfc.graphModel(model,edgedensity*2,nNodes)\n",
    "\n",
    "#Note: the user can define her own model as long as it is a binary\n",
    "#directed matrix encoded as column(source) -> row(target).\n",
    "\n",
    "#plot the network model\n",
    "real_nEdges = np.sum(C==1) #get the real number of edges\n",
    "print(f'directed network with {nNodes} nodes and {real_nEdges} edges')\n",
    "plt.spy(C,markersize=3)\n",
    "plt.xlabel('sources',fontsize=14)\n",
    "plt.ylabel('targets',fontsize=14)\n",
    "plt.show()"
   ]
  },
  {
   "cell_type": "markdown",
   "metadata": {},
   "source": [
    "### Simulate data for the network, using the linear model X = WX + E, and pseudoempirical noise terms E\n",
    "X and E dimension is [datapoints x nodes]\n",
    "<br>\n",
    "W dimension is [nodes x nodes]"
   ]
  },
  {
   "cell_type": "code",
   "execution_count": 3,
   "metadata": {},
   "outputs": [],
   "source": [
    "#use the network model defined above\n",
    "network = C \n",
    "#Connectivity coefficients are sampled from a Uniform(min,max) distribution\n",
    "min_coefficient = -1\n",
    "max_coefficient = 1\n",
    "number_datapoints = 1200\n",
    "\n",
    "X, W = cfc.simulateData.pseudoEmpiricalData(network, \n",
    "                                            min_coeff = min_coefficient, \n",
    "                                            max_coeff = max_coefficient, \n",
    "                                            nDatapoints=number_datapoints\n",
    "                                            )"
   ]
  },
  {
   "cell_type": "markdown",
   "metadata": {},
   "source": [
    "### An alternative to the pseudoEmpirical noise terms is to sample E from a Standard Gaussian (or Beta)"
   ]
  },
  {
   "cell_type": "code",
   "execution_count": 4,
   "metadata": {},
   "outputs": [],
   "source": [
    "network = C #network model defined above\n",
    "#Connectivity coefficients are sampled from a Uniform(min,max) distribution\n",
    "min_coefficient = -1\n",
    "max_coefficient = 1\n",
    "number_datapoints = 1200\n",
    "type_distribution = 'Gaussian'  #standard Gaussian(mean = 0,std =1) or \"nonGaussian\" for a Beta(1,5)\n",
    "\n",
    "X, W = cfc.simulateData.syntheticData(network, \n",
    "                                      min_coeff = min_coefficient, \n",
    "                                      max_coeff = max_coefficient, \n",
    "                                      nDatapoints = number_datapoints,\n",
    "                                      distribution = type_distribution\n",
    "                                      )"
   ]
  },
  {
   "cell_type": "markdown",
   "metadata": {},
   "source": [
    "### Apply combinedFC to the simulated data"
   ]
  },
  {
   "cell_type": "code",
   "execution_count": 5,
   "metadata": {},
   "outputs": [],
   "source": [
    "#Important: the dataset input has to be a matrix [datapoints x nodes], and without header.\n",
    "#see the function code for more details.\n",
    "\n",
    "Mcfc = cfc.combinedFC(dataset = X,  \n",
    "            methodCondAsso = 'partialCorrelation', #method used to compute conditional associations\n",
    "            methodParcorr='inverseCovariance',     #if Partial Correlation, choose \"inversecovariance\" or \"regression\"\n",
    "            alphaCondAsso = 0.01,                  #alpha cutoff for conditional association\n",
    "            methodAsso = 'correlation',            #method used to compute bivariate associations\n",
    "            alphaAsso = 0.01,                      #alpha curtoff for bivariate association\n",
    "            equivalenceTestAsso = False,           #True for equivalence test, False for non-significance criterion\n",
    "            lower_bound = -0.2,                    #lower bound for equivalence test\n",
    "            upper_bound = +0.2                     #upper bound for equivalence test\n",
    "            )"
   ]
  },
  {
   "cell_type": "markdown",
   "metadata": {},
   "source": [
    "### Apply partial correlation to the simulated data"
   ]
  },
  {
   "cell_type": "code",
   "execution_count": 6,
   "metadata": {},
   "outputs": [],
   "source": [
    "#returns the symmetric partial correlation connectivity matrix [nodes x nodes]\n",
    "M_parcorr = cfc.partialCorrelationSig(dataset =X, \n",
    "                                      alpha = 0.01, \n",
    "                                      method = 'inverseCovariance'   #\"inverseCovariance\" or \"regression\"\n",
    "                                      )"
   ]
  },
  {
   "cell_type": "markdown",
   "metadata": {},
   "source": [
    "### Apply bivariate correlation to the simulate data"
   ]
  },
  {
   "cell_type": "code",
   "execution_count": 7,
   "metadata": {},
   "outputs": [],
   "source": [
    "#returns the symmetric bivariate correlation connectivity matrix [nodes x nodes]\n",
    "M_corr = cfc.correlationSig(dataset = X,\n",
    "                            alpha=0.01  #alpha cutoff for the significance test: two-sided z-test\n",
    "                            )   "
   ]
  },
  {
   "cell_type": "markdown",
   "metadata": {},
   "source": [
    "### Accuracy of the methods in the simulation, using precision and recall\n",
    "We want to quantify the accuracy of a method to recover the adjacencies of the true model.\n",
    "<br>\n",
    "precision = true positives / (true positives + false positives)\n",
    "<br>\n",
    "recall = true positives / (true positives + false negatives)"
   ]
  },
  {
   "cell_type": "code",
   "execution_count": 8,
   "metadata": {},
   "outputs": [
    {
     "name": "stdout",
     "output_type": "stream",
     "text": [
      "combinedFC accuracy:\n",
      "precision: 0.61\n",
      "recall: 0.762\n",
      " \n",
      "partial correlation accuracy:\n",
      "precision: 0.378\n",
      "recall: 0.824\n",
      " \n",
      "bivariate correlation accuracy:\n",
      "precision: 0.093\n",
      "recall: 0.884\n"
     ]
    }
   ],
   "source": [
    "# the true model is the simulated network C\n",
    "trueModel = C\n",
    "\n",
    "#estimated models\n",
    "estimatedModel = Mcfc\n",
    "precision = cfc.precision(estimatedModel,trueModel)\n",
    "recall = cfc.recall(estimatedModel,trueModel)\n",
    "#print results\n",
    "print(f'combinedFC accuracy:')\n",
    "print(f'precision: {round(precision,3)}')  #round up result to 3 decimals\n",
    "print(f'recall: {round(recall,3)}')\n",
    "print(' ')\n",
    "\n",
    "\n",
    "estimatedModel = M_parcorr\n",
    "precision = cfc.precision(estimatedModel,trueModel)\n",
    "recall = cfc.recall(estimatedModel,trueModel)\n",
    "print(f'partial correlation accuracy:')\n",
    "print(f'precision: {round(precision,3)}')\n",
    "print(f'recall: {round(recall,3)}')\n",
    "print(' ')\n",
    "\n",
    "estimatedModel = M_corr\n",
    "precision = cfc.precision(estimatedModel,trueModel)\n",
    "recall = cfc.recall(estimatedModel,trueModel)\n",
    "print(f'bivariate correlation accuracy:')\n",
    "print(f'precision: {round(precision,3)}')\n",
    "print(f'recall: {round(recall,3)}')"
   ]
  },
  {
   "cell_type": "markdown",
   "metadata": {},
   "source": [
    "## Alternative implementations of combinedFC"
   ]
  },
  {
   "cell_type": "markdown",
   "metadata": {},
   "source": [
    "### Implement combinedFC with the regression approach for Partial Correlation and an Equivalence test for zero correlations"
   ]
  },
  {
   "cell_type": "code",
   "execution_count": 9,
   "metadata": {},
   "outputs": [],
   "source": [
    "Mcfc_eq = cfc.combinedFC(dataset = X,  \n",
    "                methodCondAsso = 'partialCorrelation', #method used to compute conditional associations\n",
    "                methodParcorr='regression',            #for Partial Correlation, \"inversecovariance\" or \"regression\"\n",
    "                alphaCondAsso = 0.01,                  #alpha cutoff for conditional association\n",
    "                methodAsso = 'correlation',            #method used to compute bivariate associations\n",
    "                alphaAsso = 0.01,                      #alpha curtoff for bivariate association\n",
    "                equivalenceTestAsso = True,            #True for equivalence test, False for non-significance criterion\n",
    "                lower_bound = -0.2,                    #lower bound for equivalence test\n",
    "                upper_bound = +0.2                     #upper bound for equivalence test\n",
    "                )"
   ]
  },
  {
   "cell_type": "markdown",
   "metadata": {},
   "source": [
    "### Accuracy of combinedFC with the regression approach for Partial Correlation and an Equivalence test for zero correlations"
   ]
  },
  {
   "cell_type": "code",
   "execution_count": 10,
   "metadata": {},
   "outputs": [
    {
     "name": "stdout",
     "output_type": "stream",
     "text": [
      "combinedFC with regression approach for partial correlation and an Equivalence test, accuracy:\n",
      "precision: 0.71\n",
      "recall: 0.694\n"
     ]
    }
   ],
   "source": [
    "trueModel = C\n",
    "estimatedModel = Mcfc_eq\n",
    "precision = cfc.precision(estimatedModel,trueModel)\n",
    "recall = cfc.recall(estimatedModel,trueModel)\n",
    "print(f'combinedFC with regression approach for partial correlation and an Equivalence test, accuracy:')\n",
    "print(f'precision: {round(precision,3)}')\n",
    "print(f'recall: {round(recall,3)}')"
   ]
  },
  {
   "cell_type": "markdown",
   "metadata": {},
   "source": [
    "### Implement combinedFC with simple regression and multiple regression"
   ]
  },
  {
   "cell_type": "code",
   "execution_count": 11,
   "metadata": {},
   "outputs": [],
   "source": [
    "#returns the symmetric combinedFC connectivity matrix [nodes x nodes]\n",
    "Mcfc_reg = cfc.combinedFC(dataset = X,  \n",
    "                   methodCondAsso = 'multipleRegression', #use multiple regression for conditional associations  \n",
    "                   alphaCondAsso = 0.01,                  #alpha cutoff for the multiple regression coefficients\n",
    "                   methodAsso = 'simpleRegression',       #use simple regression for the bivariate associations        \n",
    "                   alphaAsso = 0.01,                      #alpha cutoff for the simple regression coefficients \n",
    "                    )"
   ]
  },
  {
   "cell_type": "markdown",
   "metadata": {},
   "source": [
    "### Accuracy of combinedFC with simple regression and multiple regression"
   ]
  },
  {
   "cell_type": "code",
   "execution_count": 12,
   "metadata": {},
   "outputs": [
    {
     "name": "stdout",
     "output_type": "stream",
     "text": [
      "combinedFC with simple and multiple regression, accuracy:\n",
      "precision: 0.61\n",
      "recall: 0.762\n"
     ]
    }
   ],
   "source": [
    "trueModel = C\n",
    "estimatedModel = Mcfc_reg\n",
    "precision = cfc.precision(estimatedModel,trueModel)\n",
    "recall = cfc.recall(estimatedModel,trueModel)\n",
    "print(f'combinedFC with simple and multiple regression, accuracy:')\n",
    "print(f'precision: {round(precision,3)}')\n",
    "print(f'recall: {round(recall,3)}')"
   ]
  },
  {
   "cell_type": "markdown",
   "metadata": {},
   "source": [
    "## Simulate a high-dimensional problem (nodes >> datapoints)"
   ]
  },
  {
   "cell_type": "code",
   "execution_count": 40,
   "metadata": {},
   "outputs": [
    {
     "name": "stdout",
     "output_type": "stream",
     "text": [
      "directed network with 800 nodes and 1023 edges\n"
     ]
    }
   ],
   "source": [
    "#define a sparser directed network\n",
    "model = 'ErdosRenyi'  #or ErdosRenyi\n",
    "edgedensity = 1000 #aprox. number of edges\n",
    "nNodes = 800 #number of nodes\n",
    "#call the function to generate the network\n",
    "C = cfc.graphModel(model,edgedensity*2,nNodes)\n",
    "\n",
    "real_nEdges = np.sum(C==1)\n",
    "print(f'directed network with {nNodes} nodes and {real_nEdges} edges')"
   ]
  },
  {
   "cell_type": "code",
   "execution_count": 41,
   "metadata": {},
   "outputs": [
    {
     "name": "stdout",
     "output_type": "stream",
     "text": [
      "X_hd dataset has 800 nodes and 400 datapoints\n"
     ]
    }
   ],
   "source": [
    "#generate the high-dimensional dataset using the above directed network\n",
    "network = C #network model defined above\n",
    "#Connectivity coefficients are sampled from a Uniform(min,max) distribution\n",
    "min_coefficient = -1\n",
    "max_coefficient = 1\n",
    "#number of nodes of the network\n",
    "nNodes = network.shape[1]\n",
    "#define number of datapoints to be half of the number of nodes (nodes >> datapoints)\n",
    "number_datapoints = np.round(nNodes/2).astype(int) #round and define as integer\n",
    "\n",
    "#generate data using Gaussian noise terms E\n",
    "type_distribution = 'Gaussian'  #standard Gaussian(mean = 0,std =1)\n",
    "X_hd, W_hd = cfc.simulateData.syntheticData(network, \n",
    "                                            min_coeff = min_coefficient, \n",
    "                                            max_coeff = max_coefficient, \n",
    "                                            nDatapoints = number_datapoints,\n",
    "                                            distribution = type_distribution\n",
    "                                            )\n",
    "print(f'X_hd dataset has {X_hd.shape[1]} nodes and {X_hd.shape[0]} datapoints')"
   ]
  },
  {
   "cell_type": "markdown",
   "metadata": {},
   "source": [
    "### Implement combinedFC with a high-dimensional method to compute partial correlations\n",
    "The method used is glasso, a regularized solution to the inverse covariance approach for high-dimensional datasets."
   ]
  },
  {
   "cell_type": "code",
   "execution_count": null,
   "metadata": {},
   "outputs": [],
   "source": [
    "#the glasso implementation uses as default a cross-validation with 10 kfolds to choose the regularization parameter\n",
    "Mcfc_hd = cfc.combinedFC(dataset = X_hd,  \n",
    "                    methodCondAsso = 'partialCorrelation', #method for conditional associations\n",
    "                    methodParcorr = 'glasso',              #use glasso as method for partial correlations\n",
    "                    alphaCondAsso = 0.01,                  #alpha cutoff for the multiple regression coefficients\n",
    "                    methodAsso = 'correlation',            #use simple regression for the bivariate associations        \n",
    "                    alphaAsso = 0.01,                      #alpha cutoff for the simple regression coefficients\n",
    "                    )"
   ]
  },
  {
   "cell_type": "markdown",
   "metadata": {},
   "source": [
    "### Apply partial correlation using glasso to the high-dimensional dataset"
   ]
  },
  {
   "cell_type": "code",
   "execution_count": null,
   "metadata": {},
   "outputs": [],
   "source": [
    "#the glasso implementation uses as default a cross-validation with 10 kfolds to choose the regularization parameter\n",
    "Mparcorr_hd = cfc.partialCorrelationSig(dataset =X_hd, \n",
    "                                      alpha = 0.01, \n",
    "                                      method = 'glasso'   #use glasso for high-dimensional datasets\n",
    "                                      )"
   ]
  },
  {
   "cell_type": "markdown",
   "metadata": {},
   "source": [
    "### Apply correlation to the high-dimensional dataset"
   ]
  },
  {
   "cell_type": "code",
   "execution_count": 44,
   "metadata": {},
   "outputs": [],
   "source": [
    "Mcorr_hd = cfc.correlationSig(dataset = X_hd,\n",
    "                            alpha=0.01  #alpha cutoff for the significance test: two-sided z-test\n",
    "                            )   "
   ]
  },
  {
   "cell_type": "markdown",
   "metadata": {},
   "source": [
    "### Precision and recall of the methods for the high-dimensional problem"
   ]
  },
  {
   "cell_type": "code",
   "execution_count": 45,
   "metadata": {},
   "outputs": [
    {
     "name": "stdout",
     "output_type": "stream",
     "text": [
      "combinedFC using glasso to compute partial correlations, accuracy:\n",
      "precision: 0.732\n",
      "recall: 0.778\n",
      " \n",
      "partial correlation using glasso, accuracy:\n",
      "precision: 0.448\n",
      "recall: 0.785\n",
      " \n",
      "bivariate correlation accuracy:\n",
      "precision: 0.165\n",
      "recall: 0.881\n"
     ]
    }
   ],
   "source": [
    "# the true model is the simulated network C\n",
    "trueModel = C\n",
    "\n",
    "estimatedModel = Mcfc_hd\n",
    "precision = cfc.precision(estimatedModel,trueModel)\n",
    "recall = cfc.recall(estimatedModel,trueModel)\n",
    "print(f'combinedFC using glasso to compute partial correlations, accuracy:')\n",
    "print(f'precision: {round(precision,3)}')\n",
    "print(f'recall: {round(recall,3)}')\n",
    "print(' ')\n",
    "\n",
    "estimatedModel = Mparcorr_hd\n",
    "precision = cfc.precision(estimatedModel,trueModel)\n",
    "recall = cfc.recall(estimatedModel,trueModel)\n",
    "print(f'partial correlation using glasso, accuracy:')\n",
    "print(f'precision: {round(precision,3)}')\n",
    "print(f'recall: {round(recall,3)}')\n",
    "print(' ')\n",
    "\n",
    "estimatedModel = Mcorr_hd\n",
    "precision = cfc.precision(estimatedModel,trueModel)\n",
    "recall = cfc.recall(estimatedModel,trueModel)\n",
    "print(f'bivariate correlation accuracy:')\n",
    "print(f'precision: {round(precision,3)}')\n",
    "print(f'recall: {round(recall,3)}')"
   ]
  }
 ],
 "metadata": {
  "kernelspec": {
   "display_name": "Python 3",
   "language": "python",
   "name": "python3"
  },
  "language_info": {
   "codemirror_mode": {
    "name": "ipython",
    "version": 3
   },
   "file_extension": ".py",
   "mimetype": "text/x-python",
   "name": "python",
   "nbconvert_exporter": "python",
   "pygments_lexer": "ipython3",
   "version": "3.7.3"
  }
 },
 "nbformat": 4,
 "nbformat_minor": 2
}
